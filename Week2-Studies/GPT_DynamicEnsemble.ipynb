{
 "cells": [
  {
   "cell_type": "code",
   "execution_count": 1,
   "id": "54329a6a",
   "metadata": {},
   "outputs": [],
   "source": [
    "import numpy as np\n",
    "from sklearn.datasets import load_iris\n",
    "from sklearn.model_selection import train_test_split\n",
    "from sklearn.base import clone\n",
    "from sklearn.neighbors import KNeighborsClassifier\n",
    "from sklearn.tree import DecisionTreeClassifier\n",
    "from sklearn.linear_model import LogisticRegression\n",
    "from sklearn.preprocessing import StandardScaler\n",
    "from sklearn.metrics import accuracy_score\n",
    "from collections import Counter"
   ]
  },
  {
   "cell_type": "code",
   "execution_count": 2,
   "id": "efd1c2e7",
   "metadata": {},
   "outputs": [],
   "source": [
    "# Load dataset\n",
    "X, y = load_iris(return_X_y=True)"
   ]
  },
  {
   "cell_type": "code",
   "execution_count": 3,
   "id": "c4549e59",
   "metadata": {},
   "outputs": [],
   "source": [
    "# Split into pool training, validation, and test sets\n",
    "X_train_pool, X_temp, y_train_pool, y_temp = train_test_split(\n",
    "    X, y, test_size=0.4, random_state=42, stratify=y\n",
    ")\n",
    "X_validation, X_test, y_validation, y_test = train_test_split(\n",
    "    X_temp, y_temp, test_size=0.5, random_state=42, stratify=y_temp\n",
    ")"
   ]
  },
  {
   "cell_type": "code",
   "execution_count": 4,
   "id": "0e2f8020",
   "metadata": {},
   "outputs": [],
   "source": [
    "# Standardize data\n",
    "scaler = StandardScaler()\n",
    "X_train_pool = scaler.fit_transform(X_train_pool)\n",
    "X_validation = scaler.transform(X_validation)\n",
    "X_test = scaler.transform(X_test)"
   ]
  },
  {
   "cell_type": "code",
   "execution_count": 5,
   "id": "1a5ed370",
   "metadata": {},
   "outputs": [],
   "source": [
    "# Create a pool of diverse classifiers\n",
    "pool = [\n",
    "    DecisionTreeClassifier(random_state=42),\n",
    "    KNeighborsClassifier(n_neighbors=5),\n",
    "    LogisticRegression(max_iter=1000, random_state=42)\n",
    "]"
   ]
  },
  {
   "cell_type": "code",
   "execution_count": 6,
   "id": "e73ddb56",
   "metadata": {},
   "outputs": [],
   "source": [
    "# Train all classifiers on the pool training set\n",
    "trained_pool = [clf.fit(X_train_pool, y_train_pool) for clf in pool]\n",
    "\n",
    "# Fit a KNN on the validation set to define the region of competence\n",
    "k = 7\n",
    "region_selector = KNeighborsClassifier(n_neighbors=k).fit(X_validation, y_validation)\n",
    "\n",
    "dcs_preds = []\n",
    "des_preds = []"
   ]
  },
  {
   "cell_type": "code",
   "execution_count": 7,
   "id": "301830f4",
   "metadata": {},
   "outputs": [],
   "source": [
    "# For each test sample, perform DCS and DES\n",
    "for x in X_test:\n",
    "    # Find region of competence\n",
    "    neighbors = region_selector.kneighbors([x], return_distance=False)[0]\n",
    "    X_region, y_region = X_validation[neighbors], y_validation[neighbors]\n",
    "    \n",
    "    # Compute local competence for each classifier\n",
    "    competences = []\n",
    "    for clf in trained_pool:\n",
    "        y_reg_pred = clf.predict(X_region)\n",
    "        competences.append(np.mean(y_reg_pred == y_region))\n",
    "    \n",
    "    # DCS: pick the classifier with highest local accuracy\n",
    "    best_clf = trained_pool[np.argmax(competences)]\n",
    "    dcs_preds.append(best_clf.predict([x])[0])\n",
    "    \n",
    "    # DES: select classifiers with competence ≥ average competence\n",
    "    threshold = np.mean(competences)\n",
    "    selected = [trained_pool[i] for i, c in enumerate(competences) if c >= threshold]\n",
    "    if not selected:\n",
    "        selected = [best_clf]\n",
    "    # Majority vote among selected\n",
    "    votes = [clf.predict([x])[0] for clf in selected]\n",
    "    des_preds.append(Counter(votes).most_common(1)[0][0])"
   ]
  },
  {
   "cell_type": "code",
   "execution_count": 8,
   "id": "93ba6a24",
   "metadata": {},
   "outputs": [
    {
     "name": "stdout",
     "output_type": "stream",
     "text": [
      "Static Ensemble Accuracy: 93.33%\n",
      "Dynamic Classifier Selection Accuracy: 90.00%\n",
      "Dynamic Ensemble Selection Accuracy: 90.00%\n"
     ]
    }
   ],
   "source": [
    "# Static ensemble (majority vote of all classifiers)\n",
    "static_preds = []\n",
    "for x in X_test:\n",
    "    votes = [clf.predict([x])[0] for clf in trained_pool]\n",
    "    static_preds.append(Counter(votes).most_common(1)[0][0])\n",
    "\n",
    "# Evaluate\n",
    "print(\"Static Ensemble Accuracy: {:.2f}%\".format(accuracy_score(y_test, static_preds)*100))\n",
    "print(\"Dynamic Classifier Selection Accuracy: {:.2f}%\".format(accuracy_score(y_test, dcs_preds)*100))\n",
    "print(\"Dynamic Ensemble Selection Accuracy: {:.2f}%\".format(accuracy_score(y_test, des_preds)*100))"
   ]
  }
 ],
 "metadata": {
  "kernelspec": {
   "display_name": "Python 3",
   "language": "python",
   "name": "python3"
  },
  "language_info": {
   "codemirror_mode": {
    "name": "ipython",
    "version": 3
   },
   "file_extension": ".py",
   "mimetype": "text/x-python",
   "name": "python",
   "nbconvert_exporter": "python",
   "pygments_lexer": "ipython3",
   "version": "3.13.0"
  }
 },
 "nbformat": 4,
 "nbformat_minor": 5
}
